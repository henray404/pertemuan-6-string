{
 "cells": [
  {
   "cell_type": "code",
   "execution_count": 3,
   "metadata": {},
   "outputs": [
    {
     "name": "stdout",
     "output_type": "stream",
     "text": [
      "nama sayaMochammad Henry Alifian\n",
      "\n",
      "NRP 5054241024\n",
      "\n",
      "saya berasal dari Gresik\n",
      "\n",
      "Inisial saya MHA\n",
      "\n",
      "Nama belakang saya Alifian\n",
      "\n",
      "nama panggilan sayaHenry\n",
      "\n",
      "reverse NRP4201424505\n",
      "\n"
     ]
    }
   ],
   "source": [
    "nama = \"Mochammad Henry Alifian\"\n",
    "NRP = \"5054241024\"\n",
    "asal_kota = \"Gresik\"\n",
    "\n",
    "print(\"nama saya\" + nama + \"\\n\")\n",
    "print(\"NRP \" + NRP + \"\\n\")\n",
    "print(\"saya berasal dari \" + asal_kota + \"\\n\")\n",
    "print(\"Inisial saya \" + nama[0] + nama[10] + nama[16] + \"\\n\")\n",
    "print(\"Nama belakang saya \" + nama [16:] + \"\\n\")\n",
    "print(\"nama panggilan saya\" + nama[10:15] + \"\\n\")\n",
    "print(\"reverse NRP\" + NRP[::-1] + \"\\n\")\n"
   ]
  },
  {
   "cell_type": "markdown",
   "metadata": {},
   "source": [
    "<h3>no 1. Deleting a character dari kota asal</h3>"
   ]
  },
  {
   "cell_type": "code",
   "execution_count": 4,
   "metadata": {},
   "outputs": [
    {
     "name": "stdout",
     "output_type": "stream",
     "text": [
      "Grsik\n"
     ]
    }
   ],
   "source": [
    "asal_kota = list(asal_kota)\n",
    "asal_kota[2] = ''\n",
    "asal_kota = ''.join(asal_kota)\n",
    "print(asal_kota)  "
   ]
  },
  {
   "cell_type": "markdown",
   "metadata": {},
   "source": [
    "<h3>no 2.  Escape Sequencing in Python + Example </h3>"
   ]
  },
  {
   "cell_type": "code",
   "execution_count": 5,
   "metadata": {},
   "outputs": [
    {
     "name": "stdout",
     "output_type": "stream",
     "text": [
      "how could my day be bad when im with \"you\"\n"
     ]
    }
   ],
   "source": [
    "wte = \"how could my day be bad when im with \\\"you\\\"\"\n",
    "print(wte)"
   ]
  },
  {
   "cell_type": "markdown",
   "metadata": {},
   "source": [
    "<h3>no 3. Python String Formating (Example 1, 2, 3, 4) </h3>"
   ]
  },
  {
   "cell_type": "code",
   "execution_count": 7,
   "metadata": {},
   "outputs": [
    {
     "name": "stdout",
     "output_type": "stream",
     "text": [
      "Mengapa ku tancap gas dan melaju\n"
     ]
    }
   ],
   "source": [
    "ghazan = \"{} {} {} {} {} {}\".format(\"Mengapa\", \"ku\", \"tancap\", \"gas\", \"dan\", \"melaju\")\n",
    "\n",
    "print(ghazan)"
   ]
  }
 ],
 "metadata": {
  "kernelspec": {
   "display_name": "base",
   "language": "python",
   "name": "python3"
  },
  "language_info": {
   "codemirror_mode": {
    "name": "ipython",
    "version": 3
   },
   "file_extension": ".py",
   "mimetype": "text/x-python",
   "name": "python",
   "nbconvert_exporter": "python",
   "pygments_lexer": "ipython3",
   "version": "3.10.9"
  }
 },
 "nbformat": 4,
 "nbformat_minor": 2
}
